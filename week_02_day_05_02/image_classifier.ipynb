{
 "cells": [
  {
   "cell_type": "code",
   "execution_count": null,
   "metadata": {},
   "outputs": [],
   "source": [
    "import datetime\n",
    "import torch\n",
    "import torch.nn as nn\n",
    "import torch.nn.functional as F\n",
    "import torchvision.transforms as transforms\n",
    "from torchvision.datasets import ImageFolder\n",
    "from torch.utils.data import DataLoader"
   ]
  },
  {
   "cell_type": "code",
   "execution_count": null,
   "metadata": {},
   "outputs": [],
   "source": [
    "DEVICE = 'cuda' if torch.cuda.is_available() else 'cpu'\n",
    "TRAIN_DIR = './dataset/train/'\n",
    "TEST_DIR = './dataset/test/'\n",
    "MODEL_PATH = './model/'\n",
    "\n",
    "CLASSES = ['apple', 'banana', 'mango', 'orange']\n",
    "NUM_CLASSES = len(CLASSES)\n",
    "\n",
    "# Hyperparameters\n",
    "BATCH_SIZE = 32\n",
    "NUM_EPOCHS = 50\n",
    "LEARNING_RATE = 0.001"
   ]
  },
  {
   "cell_type": "code",
   "execution_count": null,
   "metadata": {},
   "outputs": [],
   "source": [
    "def create_dataset(dataset_dir, mean=None, std=None, batch_size=32, shuffle=False):\n",
    "    transform_list = [\n",
    "        transforms.Resize((224, 224)),\n",
    "        transforms.ToTensor(),\n",
    "    ]\n",
    "    if mean is not None and std is not None:\n",
    "        transform_list.append(transforms.Normalize(mean=mean, std=std))\n",
    "    \n",
    "    transform = transforms.Compose(transform_list)\n",
    "    dataset = ImageFolder(root=dataset_dir, transform=transform)\n",
    "    loader = DataLoader(dataset, batch_size=batch_size, shuffle=shuffle)\n",
    "    \n",
    "    return dataset, loader"
   ]
  },
  {
   "cell_type": "code",
   "execution_count": null,
   "metadata": {},
   "outputs": [],
   "source": [
    "train_dataset, train_loader = create_dataset(\n",
    "    dataset_dir=TRAIN_DIR,\n",
    "    batch_size=BATCH_SIZE,\n",
    ")\n",
    "\n",
    "data = next(iter(train_dataset))\n",
    "tensor = data[0].unsqueeze(0)\n",
    "mean = tensor.mean((0, 2, 3))\n",
    "std = tensor.std((0, 2, 3))\n",
    "\n",
    "print(f'Mean: {mean}')\n",
    "print(f'Std: {std}')\n",
    "\n",
    "train_dataset, train_loader = create_dataset(\n",
    "    dataset_dir=TRAIN_DIR,\n",
    "    mean=mean,\n",
    "    std=std,\n",
    "    batch_size=BATCH_SIZE,\n",
    "    shuffle=True\n",
    ")\n",
    "test_dataset, test_loader = create_dataset(\n",
    "    dataset_dir=TEST_DIR,\n",
    "    mean=mean,\n",
    "    std=std,\n",
    "    batch_size=BATCH_SIZE,\n",
    "    shuffle=True\n",
    ")"
   ]
  },
  {
   "cell_type": "code",
   "execution_count": null,
   "metadata": {},
   "outputs": [],
   "source": [
    "conv1 = nn.Conv2d(3, 16, 3)\n",
    "pool = nn.MaxPool2d(2, 2)\n",
    "conv2 = nn.Conv2d(16, 32, 5)\n",
    "conv3 = nn.Conv2d(32, 64, 5)\n",
    "inputs = torch.randn((1, 3, 224, 224))\n",
    "x = conv3(pool(conv2(pool(conv1(inputs)))))\n",
    "outputs = F.avg_pool2d(x, kernel_size=x.size()[2:])\n",
    "\n",
    "print(outputs.shape)"
   ]
  },
  {
   "cell_type": "code",
   "execution_count": null,
   "metadata": {},
   "outputs": [],
   "source": [
    "class ConvNet(nn.Module):\n",
    "  def __init__(self):\n",
    "    super(ConvNet, self).__init__()\n",
    "    self.pool = nn.MaxPool2d(2, 2)\n",
    "    self.conv1 = nn.Conv2d(3, 64, 3)\n",
    "    self.conv2 = nn.Conv2d(64, 128, 3)\n",
    "    self.fc1 = nn.Linear(128*54*54, 1024)\n",
    "    self.fc2 = nn.Linear(1024, NUM_CLASSES)\n",
    "\n",
    "  def forward(self, x):\n",
    "                                          # -> n, 4, 224, 224\n",
    "    x = self.pool(F.relu(self.conv1(x)))  # -> n, 32, 111, 111\n",
    "    x = self.pool(F.relu(self.conv2(x)))  # -> n, 32, 54, 54\n",
    "    x = x.view(-1, 128*54*54)              # -> n, 93321\n",
    "    x = F.relu(self.fc1(x))               # -> n, 128\n",
    "    x = self.fc2(x)                       # -> n, 4\n",
    "    return x\n",
    "  \n",
    "model = ConvNet().to(DEVICE)\n",
    "criterion = nn.CrossEntropyLoss()\n",
    "optimizer = torch.optim.SGD(model.parameters(), lr=LEARNING_RATE)"
   ]
  },
  {
   "cell_type": "code",
   "execution_count": null,
   "metadata": {},
   "outputs": [],
   "source": [
    "num_batches = len(train_loader)\n",
    "for epoch in range(NUM_EPOCHS):\n",
    "  for i, (images, labels) in enumerate(train_loader):\n",
    "    images = images.to(DEVICE)\n",
    "    labels = labels.to(DEVICE)\n",
    "    \n",
    "    # Forward\n",
    "    outputs = model(images)\n",
    "    loss = criterion(outputs, labels)\n",
    "    \n",
    "    # Backward and optimize\n",
    "    optimizer.zero_grad()\n",
    "    loss.backward()\n",
    "    optimizer.step()\n",
    "    \n",
    "    print (f'Epoch [{epoch+1}/{NUM_EPOCHS}], Batch [{i+1}/{num_batches}], Loss: {loss.item():.4f}')"
   ]
  },
  {
   "cell_type": "code",
   "execution_count": null,
   "metadata": {},
   "outputs": [],
   "source": [
    "torch.save(\n",
    "  model.state_dict(), \n",
    "  f'{MODEL_PATH}custom_cnn_fruit_dataset_{datetime.datetime.now().strftime(\"%Y-%m-%d_%H-%M\")}.pth'\n",
    ")"
   ]
  },
  {
   "cell_type": "code",
   "execution_count": null,
   "metadata": {},
   "outputs": [],
   "source": [
    "with torch.no_grad():\n",
    "  n_correct = 0\n",
    "  n_samples = 0\n",
    "  n_class_correct = [0 for i in range(10)]\n",
    "  n_class_samples = [0 for i in range(10)]\n",
    "  \n",
    "  for images, labels in test_loader:\n",
    "    images = images.to(DEVICE)\n",
    "    labels = labels.to(DEVICE)\n",
    "    \n",
    "    outputs = model(images)\n",
    "    _, predicted = torch.max(outputs, 1)\n",
    "    \n",
    "    n_samples += labels.size(0)\n",
    "    n_correct += (predicted == labels).sum().item()\n",
    "    \n",
    "    for i in range(len(test_loader)):\n",
    "      label = labels[i]\n",
    "      pred = predicted[i]\n",
    "      if (label == pred):\n",
    "        n_class_correct[label] += 1\n",
    "      n_class_samples[label] += 1\n",
    "    \n",
    "  acc = 100.0 * n_correct / n_samples\n",
    "  print(f'Accuracy of the network: {acc} %')\n",
    "  \n",
    "  for i in range(NUM_CLASSES):\n",
    "    acc = 0\n",
    "    if n_class_samples[i] != 0:\n",
    "      acc = 100.0 * n_class_correct[i] / n_class_samples[i]\n",
    "    print(f'Accuracy of {CLASSES[i]}: {acc} %')"
   ]
  }
 ],
 "metadata": {
  "kernelspec": {
   "display_name": "py3.9",
   "language": "python",
   "name": "python3"
  },
  "language_info": {
   "codemirror_mode": {
    "name": "ipython",
    "version": 3
   },
   "file_extension": ".py",
   "mimetype": "text/x-python",
   "name": "python",
   "nbconvert_exporter": "python",
   "pygments_lexer": "ipython3",
   "version": "3.9.2"
  },
  "orig_nbformat": 4
 },
 "nbformat": 4,
 "nbformat_minor": 2
}
